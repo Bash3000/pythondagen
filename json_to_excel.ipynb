{
 "cells": [
  {
   "cell_type": "markdown",
   "metadata": {},
   "source": [
    "# Heading"
   ]
  },
  {
   "cell_type": "code",
   "execution_count": 1,
   "metadata": {},
   "outputs": [],
   "source": [
    "import requests as rq\n",
    "import pandas as pd"
   ]
  },
  {
   "cell_type": "code",
   "execution_count": 2,
   "metadata": {},
   "outputs": [],
   "source": [
    "#url = 'https://ghoapi.azureedge.net/api/AIR_13'\n",
    "url = 'http://api.sr.se/api/v2/scheduledepisodes?channelid=164&format=json'"
   ]
  },
  {
   "cell_type": "markdown",
   "metadata": {},
   "source": [
    "## Stor kommentar"
   ]
  },
  {
   "cell_type": "code",
   "execution_count": 7,
   "metadata": {},
   "outputs": [
    {
     "name": "stdout",
     "output_type": "stream",
     "text": [
      "<class 'dict'>\n"
     ]
    }
   ],
   "source": [
    "##Stor kommentar\n",
    "resp = rq.get(url)\n",
    "dictresp = resp.json()\n",
    "print(type(dictresp))"
   ]
  },
  {
   "cell_type": "code",
   "execution_count": 4,
   "metadata": {},
   "outputs": [
    {
     "name": "stdout",
     "output_type": "stream",
     "text": [
      "{'copyright': 'Copyright Sveriges Radio 2020. All rights reserved.', 'schedule': [{'episodeid': 1460572, 'title': 'Nyheter från Ekot', 'description': 'Här hör du nyheter från Sveriges Radios Ekoredaktion. Senaste nytt från hela världen - dygnet runt, året om.', 'starttimeutc': '/Date(1584054000000)/', 'endtimeutc': '/Date(1584054120000)/', 'program': {'id': 4540, 'name': 'Ekot'}, 'channel': {'id': 164, 'name': 'P3'}, 'imageurl': 'https://static-cdn.sr.se/sida/images/4540/65e162de-354f-4193-87b3-f3147ea36d68.jpg?preset=api-default-square', 'imageurltemplate': 'https://static-cdn.sr.se/sida/images/4540/65e162de-354f-4193-87b3-f3147ea36d68.jpg'}, {'episodeid': 1460573, 'title': 'Vaken', 'subtitle': 'med Wivianne Svedberg och Peter Sundberg', 'description': 'Musik, tävlingar och samtal. Ett program för dig som är vaken, helt enkelt.', 'starttimeutc': '/Date(1584054120000)/', 'endtimeutc': '/Date(1584057600000)/', 'program': {'id': 2689, 'name': 'Vaken med P3 & P4'}, 'channel': {'id': 164, 'name': 'P3'}, 'imageurl': 'https://static-cdn.sr.se/sida/images/2689/e585e2d1-0f6a-4f7e-85ba-c16e386ce9d4.jpg?preset=api-default-square', 'imageurltemplate': 'https://static-cdn.sr.se/sida/images/2689/e585e2d1-0f6a-4f7e-85ba-c16e386ce9d4.jpg'}, {'episodeid': 1460573, 'title': 'Nyheter från Ekot', 'description': 'Här hör du nyheter från Sveriges Radios Ekoredaktion. Senaste nytt från hela världen - dygnet runt, året om.', 'starttimeutc': '/Date(1584057600000)/', 'endtimeutc': '/Date(1584057720000)/', 'program': {'id': 4540, 'name': 'Ekot'}, 'channel': {'id': 164, 'name': 'P3'}}, {'episodeid': 1460573, 'title': 'Vaken', 'subtitle': 'med Wivianne Svedberg och Peter Sundberg', 'description': 'Musik, tävlingar och samtal. Ett program för dig som är vaken, helt enkelt.', 'starttimeutc': '/Date(1584057720000)/', 'endtimeutc': '/Date(1584061200000)/', 'program': {'id': 2689, 'name': 'Vaken med P3 & P4'}, 'channel': {'id': 164, 'name': 'P3'}, 'imageurl': 'https://static-cdn.sr.se/sida/images/2689/e585e2d1-0f6a-4f7e-85ba-c16e386ce9d4.jpg?preset=api-default-square', 'imageurltemplate': 'https://static-cdn.sr.se/sida/images/2689/e585e2d1-0f6a-4f7e-85ba-c16e386ce9d4.jpg'}, {'episodeid': 1460573, 'title': 'Nyheter från Ekot', 'description': 'Här hör du nyheter från Sveriges Radios Ekoredaktion. Senaste nytt från hela världen - dygnet runt, året om.', 'starttimeutc': '/Date(1584061200000)/', 'endtimeutc': '/Date(1584061320000)/', 'program': {'id': 4540, 'name': 'Ekot'}, 'channel': {'id': 164, 'name': 'P3'}}, {'episodeid': 1460573, 'title': 'Vaken', 'subtitle': 'med Wivianne Svedberg och Peter Sundberg', 'description': 'Musik, tävlingar och samtal. Ett program för dig som är vaken, helt enkelt.', 'starttimeutc': '/Date(1584061320000)/', 'endtimeutc': '/Date(1584064800000)/', 'program': {'id': 2689, 'name': 'Vaken med P3 & P4'}, 'channel': {'id': 164, 'name': 'P3'}, 'imageurl': 'https://static-cdn.sr.se/sida/images/2689/e585e2d1-0f6a-4f7e-85ba-c16e386ce9d4.jpg?preset=api-default-square', 'imageurltemplate': 'https://static-cdn.sr.se/sida/images/2689/e585e2d1-0f6a-4f7e-85ba-c16e386ce9d4.jpg'}, {'episodeid': 1460573, 'title': 'Nyheter från Ekot', 'description': 'Här hör du nyheter från Sveriges Radios Ekoredaktion. Senaste nytt från hela världen - dygnet runt, året om.', 'starttimeutc': '/Date(1584064800000)/', 'endtimeutc': '/Date(1584064920000)/', 'program': {'id': 4540, 'name': 'Ekot'}, 'channel': {'id': 164, 'name': 'P3'}}, {'episodeid': 1460573, 'title': 'Vaken', 'subtitle': 'med Wivianne Svedberg och Peter Sundberg', 'description': 'Musik, tävlingar och samtal. Ett program för dig som är vaken, helt enkelt.', 'starttimeutc': '/Date(1584064920000)/', 'endtimeutc': '/Date(1584068400000)/', 'program': {'id': 2689, 'name': 'Vaken med P3 & P4'}, 'channel': {'id': 164, 'name': 'P3'}, 'imageurl': 'https://static-cdn.sr.se/sida/images/2689/e585e2d1-0f6a-4f7e-85ba-c16e386ce9d4.jpg?preset=api-default-square', 'imageurltemplate': 'https://static-cdn.sr.se/sida/images/2689/e585e2d1-0f6a-4f7e-85ba-c16e386ce9d4.jpg'}, {'episodeid': 1460573, 'title': 'Nyheter från Ekot', 'description': 'Här hör du nyheter från Sveriges Radios Ekoredaktion. Senaste nytt från hela världen - dygnet runt, året om.', 'starttimeutc': '/Date(1584068400000)/', 'endtimeutc': '/Date(1584068520000)/', 'program': {'id': 4540, 'name': 'Ekot'}, 'channel': {'id': 164, 'name': 'P3'}}, {'episodeid': 1460573, 'title': 'Vaken', 'subtitle': 'med Wivianne Svedberg och Peter Sundberg', 'description': 'Musik, tävlingar och samtal. Ett program för dig som är vaken, helt enkelt.', 'starttimeutc': '/Date(1584068520000)/', 'endtimeutc': '/Date(1584072000000)/', 'program': {'id': 2689, 'name': 'Vaken med P3 & P4'}, 'channel': {'id': 164, 'name': 'P3'}, 'imageurl': 'https://static-cdn.sr.se/sida/images/2689/e585e2d1-0f6a-4f7e-85ba-c16e386ce9d4.jpg?preset=api-default-square', 'imageurltemplate': 'https://static-cdn.sr.se/sida/images/2689/e585e2d1-0f6a-4f7e-85ba-c16e386ce9d4.jpg'}], 'pagination': {'page': 1, 'size': 10, 'totalhits': 65, 'totalpages': 7, 'nextpage': 'http://api.sr.se/v2/scheduledepisodes?channelid=164&format=json&page=2'}}\n"
     ]
    }
   ],
   "source": [
    "print(dictresp)"
   ]
  },
  {
   "cell_type": "code",
   "execution_count": 5,
   "metadata": {},
   "outputs": [
    {
     "name": "stdout",
     "output_type": "stream",
     "text": [
      "[{'episodeid': 1460572, 'title': 'Nyheter från Ekot', 'description': 'Här hör du nyheter från Sveriges Radios Ekoredaktion. Senaste nytt från hela världen - dygnet runt, året om.', 'starttimeutc': '/Date(1584054000000)/', 'endtimeutc': '/Date(1584054120000)/', 'program': {'id': 4540, 'name': 'Ekot'}, 'channel': {'id': 164, 'name': 'P3'}, 'imageurl': 'https://static-cdn.sr.se/sida/images/4540/65e162de-354f-4193-87b3-f3147ea36d68.jpg?preset=api-default-square', 'imageurltemplate': 'https://static-cdn.sr.se/sida/images/4540/65e162de-354f-4193-87b3-f3147ea36d68.jpg'}, {'episodeid': 1460573, 'title': 'Vaken', 'subtitle': 'med Wivianne Svedberg och Peter Sundberg', 'description': 'Musik, tävlingar och samtal. Ett program för dig som är vaken, helt enkelt.', 'starttimeutc': '/Date(1584054120000)/', 'endtimeutc': '/Date(1584057600000)/', 'program': {'id': 2689, 'name': 'Vaken med P3 & P4'}, 'channel': {'id': 164, 'name': 'P3'}, 'imageurl': 'https://static-cdn.sr.se/sida/images/2689/e585e2d1-0f6a-4f7e-85ba-c16e386ce9d4.jpg?preset=api-default-square', 'imageurltemplate': 'https://static-cdn.sr.se/sida/images/2689/e585e2d1-0f6a-4f7e-85ba-c16e386ce9d4.jpg'}, {'episodeid': 1460573, 'title': 'Nyheter från Ekot', 'description': 'Här hör du nyheter från Sveriges Radios Ekoredaktion. Senaste nytt från hela världen - dygnet runt, året om.', 'starttimeutc': '/Date(1584057600000)/', 'endtimeutc': '/Date(1584057720000)/', 'program': {'id': 4540, 'name': 'Ekot'}, 'channel': {'id': 164, 'name': 'P3'}}, {'episodeid': 1460573, 'title': 'Vaken', 'subtitle': 'med Wivianne Svedberg och Peter Sundberg', 'description': 'Musik, tävlingar och samtal. Ett program för dig som är vaken, helt enkelt.', 'starttimeutc': '/Date(1584057720000)/', 'endtimeutc': '/Date(1584061200000)/', 'program': {'id': 2689, 'name': 'Vaken med P3 & P4'}, 'channel': {'id': 164, 'name': 'P3'}, 'imageurl': 'https://static-cdn.sr.se/sida/images/2689/e585e2d1-0f6a-4f7e-85ba-c16e386ce9d4.jpg?preset=api-default-square', 'imageurltemplate': 'https://static-cdn.sr.se/sida/images/2689/e585e2d1-0f6a-4f7e-85ba-c16e386ce9d4.jpg'}, {'episodeid': 1460573, 'title': 'Nyheter från Ekot', 'description': 'Här hör du nyheter från Sveriges Radios Ekoredaktion. Senaste nytt från hela världen - dygnet runt, året om.', 'starttimeutc': '/Date(1584061200000)/', 'endtimeutc': '/Date(1584061320000)/', 'program': {'id': 4540, 'name': 'Ekot'}, 'channel': {'id': 164, 'name': 'P3'}}, {'episodeid': 1460573, 'title': 'Vaken', 'subtitle': 'med Wivianne Svedberg och Peter Sundberg', 'description': 'Musik, tävlingar och samtal. Ett program för dig som är vaken, helt enkelt.', 'starttimeutc': '/Date(1584061320000)/', 'endtimeutc': '/Date(1584064800000)/', 'program': {'id': 2689, 'name': 'Vaken med P3 & P4'}, 'channel': {'id': 164, 'name': 'P3'}, 'imageurl': 'https://static-cdn.sr.se/sida/images/2689/e585e2d1-0f6a-4f7e-85ba-c16e386ce9d4.jpg?preset=api-default-square', 'imageurltemplate': 'https://static-cdn.sr.se/sida/images/2689/e585e2d1-0f6a-4f7e-85ba-c16e386ce9d4.jpg'}, {'episodeid': 1460573, 'title': 'Nyheter från Ekot', 'description': 'Här hör du nyheter från Sveriges Radios Ekoredaktion. Senaste nytt från hela världen - dygnet runt, året om.', 'starttimeutc': '/Date(1584064800000)/', 'endtimeutc': '/Date(1584064920000)/', 'program': {'id': 4540, 'name': 'Ekot'}, 'channel': {'id': 164, 'name': 'P3'}}, {'episodeid': 1460573, 'title': 'Vaken', 'subtitle': 'med Wivianne Svedberg och Peter Sundberg', 'description': 'Musik, tävlingar och samtal. Ett program för dig som är vaken, helt enkelt.', 'starttimeutc': '/Date(1584064920000)/', 'endtimeutc': '/Date(1584068400000)/', 'program': {'id': 2689, 'name': 'Vaken med P3 & P4'}, 'channel': {'id': 164, 'name': 'P3'}, 'imageurl': 'https://static-cdn.sr.se/sida/images/2689/e585e2d1-0f6a-4f7e-85ba-c16e386ce9d4.jpg?preset=api-default-square', 'imageurltemplate': 'https://static-cdn.sr.se/sida/images/2689/e585e2d1-0f6a-4f7e-85ba-c16e386ce9d4.jpg'}, {'episodeid': 1460573, 'title': 'Nyheter från Ekot', 'description': 'Här hör du nyheter från Sveriges Radios Ekoredaktion. Senaste nytt från hela världen - dygnet runt, året om.', 'starttimeutc': '/Date(1584068400000)/', 'endtimeutc': '/Date(1584068520000)/', 'program': {'id': 4540, 'name': 'Ekot'}, 'channel': {'id': 164, 'name': 'P3'}}, {'episodeid': 1460573, 'title': 'Vaken', 'subtitle': 'med Wivianne Svedberg och Peter Sundberg', 'description': 'Musik, tävlingar och samtal. Ett program för dig som är vaken, helt enkelt.', 'starttimeutc': '/Date(1584068520000)/', 'endtimeutc': '/Date(1584072000000)/', 'program': {'id': 2689, 'name': 'Vaken med P3 & P4'}, 'channel': {'id': 164, 'name': 'P3'}, 'imageurl': 'https://static-cdn.sr.se/sida/images/2689/e585e2d1-0f6a-4f7e-85ba-c16e386ce9d4.jpg?preset=api-default-square', 'imageurltemplate': 'https://static-cdn.sr.se/sida/images/2689/e585e2d1-0f6a-4f7e-85ba-c16e386ce9d4.jpg'}]\n"
     ]
    }
   ],
   "source": [
    "print(dictresp['schedule'])"
   ]
  },
  {
   "cell_type": "code",
   "execution_count": 6,
   "metadata": {},
   "outputs": [
    {
     "ename": "NameError",
     "evalue": "name 'json_normalize' is not defined",
     "output_type": "error",
     "traceback": [
      "\u001b[1;31m---------------------------------------------------------------------------\u001b[0m",
      "\u001b[1;31mNameError\u001b[0m                                 Traceback (most recent call last)",
      "\u001b[1;32m<ipython-input-6-353e408c55fb>\u001b[0m in \u001b[0;36m<module>\u001b[1;34m()\u001b[0m\n\u001b[1;32m----> 1\u001b[1;33m \u001b[0mdf\u001b[0m \u001b[1;33m=\u001b[0m \u001b[0mjson_normalize\u001b[0m\u001b[1;33m(\u001b[0m\u001b[0mdictresp\u001b[0m\u001b[1;33m[\u001b[0m\u001b[1;34m'schedule'\u001b[0m\u001b[1;33m]\u001b[0m\u001b[1;33m)\u001b[0m\u001b[1;33m\u001b[0m\u001b[0m\n\u001b[0m",
      "\u001b[1;31mNameError\u001b[0m: name 'json_normalize' is not defined"
     ]
    }
   ],
   "source": [
    "df = json_normalize(dictresp['schedule'])"
   ]
  },
  {
   "cell_type": "code",
   "execution_count": null,
   "metadata": {},
   "outputs": [],
   "source": [
    "#print(df)"
   ]
  },
  {
   "cell_type": "code",
   "execution_count": null,
   "metadata": {},
   "outputs": [],
   "source": [
    "df.to_excel('c:/temp/output3.xlsx', engine='xlsxwriter')"
   ]
  },
  {
   "cell_type": "code",
   "execution_count": null,
   "metadata": {},
   "outputs": [],
   "source": []
  }
 ],
 "metadata": {
  "kernelspec": {
   "display_name": "Python 3",
   "language": "python",
   "name": "python3"
  },
  "language_info": {
   "codemirror_mode": {
    "name": "ipython",
    "version": 3
   },
   "file_extension": ".py",
   "mimetype": "text/x-python",
   "name": "python",
   "nbconvert_exporter": "python",
   "pygments_lexer": "ipython3",
   "version": "3.7.0"
  }
 },
 "nbformat": 4,
 "nbformat_minor": 2
}
